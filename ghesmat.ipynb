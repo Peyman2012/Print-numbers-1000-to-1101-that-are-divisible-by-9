{
 "cells": [
  {
   "cell_type": "code",
   "execution_count": 4,
   "metadata": {},
   "outputs": [
    {
     "name": "stdout",
     "output_type": "stream",
     "text": [
      "Result is :\n",
      "1008 \t1017 \t1026 \t1035 \t1044 \t1053 \t1062 \t1071 \t1080 \t1089 \t1098 \t"
     ]
    }
   ],
   "source": [
    "print(\"Result is :\")\n",
    "for i in range(1000,1101):\n",
    "    a=str(i)\n",
    "    b=int(a[::-1])\n",
    "    if (b%9)==0:\n",
    "        \n",
    "        print(i,end=' \\t')"
   ]
  },
  {
   "cell_type": "code",
   "execution_count": null,
   "metadata": {},
   "outputs": [],
   "source": []
  }
 ],
 "metadata": {
  "kernelspec": {
   "display_name": "Python 3",
   "language": "python",
   "name": "python3"
  },
  "language_info": {
   "codemirror_mode": {
    "name": "ipython",
    "version": 3
   },
   "file_extension": ".py",
   "mimetype": "text/x-python",
   "name": "python",
   "nbconvert_exporter": "python",
   "pygments_lexer": "ipython3",
   "version": "3.6.13"
  }
 },
 "nbformat": 4,
 "nbformat_minor": 2
}
